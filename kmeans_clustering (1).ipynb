{
 "cells": [
  {
   "cell_type": "code",
   "execution_count": 5,
   "metadata": {
    "_cell_guid": "b1076dfc-b9ad-4769-8c92-a6c4dae69d19",
    "_uuid": "8f2839f25d086af736a60e9eeb907d3b93b6e0e5",
    "colab": {
     "base_uri": "https://localhost:8080/"
    },
    "id": "0axkS5kxZ3xT",
    "outputId": "2e27f6c3-7ba2-4195-fad3-72e691cbd2a4"
   },
   "outputs": [
    {
     "name": "stdout",
     "output_type": "stream",
     "text": [
      "['1.1P - Project Initiation (AutoRecovered).docx', '1.1P - Project Initiation.pdf', '2.1P - Project Progress Report (AutoRecovered).docx', '3.1P - Weekly Status Report (AutoRecovered).docx', 'Assignment 2.docx', 'CM', 'd2i---government-services', 'desktop.ini', 'extension', 'finHandover artefact_1.pdf', 'Homemodified2.php', 'phpMyAdmin', 'prac6', 'prof', 'res', 'SAM', 'samworklog.xlsx', 'SEM 2', 'Sem1', 'sensorendnote.Data', 'sensorendnote.enl', 'Sensor_readings__with_temperature__light__humidity_every_5_minutes_at_8_locations__trial__2014_to_2015_ (1).csv', \"share'\", 'sharevm', 'site', 'stuff', 'stuff check', 'summary 1.pdf', 'T3', 'thesis', 'Virtual_machine', 'vmshare2', 'wireframe', 'xampp', '~$1Faculty of Science.docx', '~$1P - Project Progress Report (AutoRecovered).docx', '~$1P - Weekly Status Report (AutoRecovered).docx', '~$2Faculty of Science.docx', '~$9426866_MIS782_ DISBA.docx', '~$BLIND CALCULATOR PITCH.pptx', '~$culty of Sciencetask3.docx', '~$culty of Sciencetask32.docx', '~$EXAM.docx', '~$m new Cover Letter.docx', '~$mintroFaculty of Science.docx', '~$mplate1.docx', '~$S-SRSDOC.docx', '~$sessment2COM.docx', '~$signment 2sam.docx', '~$signmnet 1 sit736.docx', '~$SIT703.docx', '~$T735ASN3.docx', '~WRL1670.tmp', '~WRL1857.tmp', '~WRL3148.tmp']\n"
     ]
    }
   ],
   "source": [
    "\n",
    "\n",
    "#import the libraries\n",
    "import numpy as np # linear algebra\n",
    "import pandas as pd # data processing, CSV file I/O (e.g. pd.read_csv)\n",
    "import matplotlib.pyplot as plt #Data Visualization \n",
    "import seaborn as sns  #Python library for Vidualization\n",
    "\n",
    "\n",
    "# Input data files are available in the \"../input/\" directory.\n",
    "# For example, running this (by clicking run or pressing Shift+Enter) will list the files in the input directory\n",
    "\n",
    "import os\n",
    "print(os.listdir(\"C:/Users/samka/OneDrive/Desktop\"))\n",
    "\n",
    "# Any results you write to the current directory are saved as output."
   ]
  },
  {
   "cell_type": "code",
   "execution_count": 6,
   "metadata": {
    "_cell_guid": "79c7e3d0-c299-4dcb-8224-4455121ee9b0",
    "_kg_hide-input": false,
    "_uuid": "d629ff2d2480ee46fbb7e2d37f6b5fab8052498a",
    "colab": {
     "base_uri": "https://localhost:8080/",
     "height": 774
    },
    "id": "Rhw7WZSrZ3xY",
    "outputId": "2f6f336a-ee6d-47fe-bfd3-95573bda06bf"
   },
   "outputs": [
    {
     "data": {
      "text/html": [
       "<div>\n",
       "<style scoped>\n",
       "    .dataframe tbody tr th:only-of-type {\n",
       "        vertical-align: middle;\n",
       "    }\n",
       "\n",
       "    .dataframe tbody tr th {\n",
       "        vertical-align: top;\n",
       "    }\n",
       "\n",
       "    .dataframe thead th {\n",
       "        text-align: right;\n",
       "    }\n",
       "</style>\n",
       "<table border=\"1\" class=\"dataframe\">\n",
       "  <thead>\n",
       "    <tr style=\"text-align: right;\">\n",
       "      <th></th>\n",
       "      <th>timestamp</th>\n",
       "      <th>mac</th>\n",
       "      <th>boardtype</th>\n",
       "      <th>boardid</th>\n",
       "      <th>temp_max</th>\n",
       "      <th>temp_min</th>\n",
       "      <th>temp_avg</th>\n",
       "      <th>light_max</th>\n",
       "      <th>light_min</th>\n",
       "      <th>light_avg</th>\n",
       "      <th>humidity_min</th>\n",
       "      <th>humidity_max</th>\n",
       "      <th>humidity_avg</th>\n",
       "      <th>model</th>\n",
       "      <th>latitude</th>\n",
       "      <th>longitude</th>\n",
       "      <th>elevation</th>\n",
       "      <th>location</th>\n",
       "      <th>rowid</th>\n",
       "      <th>Position</th>\n",
       "    </tr>\n",
       "  </thead>\n",
       "  <tbody>\n",
       "    <tr>\n",
       "      <th>0</th>\n",
       "      <td>12/15/2014 01:40:00 AM</td>\n",
       "      <td>0013a20040b4b755</td>\n",
       "      <td>1</td>\n",
       "      <td>508</td>\n",
       "      <td>21.6</td>\n",
       "      <td>21.6</td>\n",
       "      <td>21.6</td>\n",
       "      <td>96.4</td>\n",
       "      <td>96.4</td>\n",
       "      <td>96.4</td>\n",
       "      <td>41.2</td>\n",
       "      <td>41.2</td>\n",
       "      <td>41.2</td>\n",
       "      <td>ENV</td>\n",
       "      <td>-37.813408</td>\n",
       "      <td>144.979492</td>\n",
       "      <td>30.10</td>\n",
       "      <td>Fitzroy Gardens</td>\n",
       "      <td>508-20141215014000</td>\n",
       "      <td>NaN</td>\n",
       "    </tr>\n",
       "    <tr>\n",
       "      <th>1</th>\n",
       "      <td>12/15/2014 01:40:00 AM</td>\n",
       "      <td>0013a20040b516ed</td>\n",
       "      <td>1</td>\n",
       "      <td>505</td>\n",
       "      <td>23.2</td>\n",
       "      <td>23.2</td>\n",
       "      <td>23.2</td>\n",
       "      <td>93.5</td>\n",
       "      <td>93.5</td>\n",
       "      <td>93.5</td>\n",
       "      <td>48.3</td>\n",
       "      <td>48.3</td>\n",
       "      <td>48.3</td>\n",
       "      <td>ENV</td>\n",
       "      <td>-37.813073</td>\n",
       "      <td>144.980406</td>\n",
       "      <td>29.91</td>\n",
       "      <td>Fitzroy Gardens</td>\n",
       "      <td>505-20141215014000</td>\n",
       "      <td>NaN</td>\n",
       "    </tr>\n",
       "    <tr>\n",
       "      <th>2</th>\n",
       "      <td>12/15/2014 01:45:00 AM</td>\n",
       "      <td>0013a20040b516f6</td>\n",
       "      <td>1</td>\n",
       "      <td>507</td>\n",
       "      <td>21.6</td>\n",
       "      <td>21.6</td>\n",
       "      <td>21.6</td>\n",
       "      <td>97.2</td>\n",
       "      <td>97.2</td>\n",
       "      <td>97.2</td>\n",
       "      <td>44.8</td>\n",
       "      <td>44.8</td>\n",
       "      <td>44.8</td>\n",
       "      <td>ENV</td>\n",
       "      <td>-37.814922</td>\n",
       "      <td>144.982258</td>\n",
       "      <td>38.79</td>\n",
       "      <td>Fitzroy Gardens</td>\n",
       "      <td>507-20141215014500</td>\n",
       "      <td>NaN</td>\n",
       "    </tr>\n",
       "    <tr>\n",
       "      <th>3</th>\n",
       "      <td>12/15/2014 01:45:00 AM</td>\n",
       "      <td>0013a20040b5b318</td>\n",
       "      <td>1</td>\n",
       "      <td>502</td>\n",
       "      <td>21.3</td>\n",
       "      <td>21.3</td>\n",
       "      <td>21.3</td>\n",
       "      <td>97.4</td>\n",
       "      <td>97.4</td>\n",
       "      <td>97.4</td>\n",
       "      <td>45.3</td>\n",
       "      <td>45.3</td>\n",
       "      <td>45.3</td>\n",
       "      <td>ENV</td>\n",
       "      <td>-37.814610</td>\n",
       "      <td>144.979018</td>\n",
       "      <td>22.57</td>\n",
       "      <td>Fitzroy Gardens</td>\n",
       "      <td>502-20141215014500</td>\n",
       "      <td>NaN</td>\n",
       "    </tr>\n",
       "    <tr>\n",
       "      <th>4</th>\n",
       "      <td>12/15/2014 01:45:00 AM</td>\n",
       "      <td>0013a20040b315ec</td>\n",
       "      <td>1</td>\n",
       "      <td>501</td>\n",
       "      <td>22.9</td>\n",
       "      <td>22.9</td>\n",
       "      <td>22.9</td>\n",
       "      <td>97.4</td>\n",
       "      <td>97.4</td>\n",
       "      <td>97.4</td>\n",
       "      <td>43.1</td>\n",
       "      <td>43.1</td>\n",
       "      <td>43.1</td>\n",
       "      <td>ENV</td>\n",
       "      <td>-37.814808</td>\n",
       "      <td>144.980999</td>\n",
       "      <td>29.96</td>\n",
       "      <td>Fitzroy Gardens</td>\n",
       "      <td>501-20141215014500</td>\n",
       "      <td>NaN</td>\n",
       "    </tr>\n",
       "    <tr>\n",
       "      <th>5</th>\n",
       "      <td>12/15/2014 01:50:00 AM</td>\n",
       "      <td>0013a20040b4b755</td>\n",
       "      <td>1</td>\n",
       "      <td>508</td>\n",
       "      <td>21.3</td>\n",
       "      <td>21.3</td>\n",
       "      <td>21.3</td>\n",
       "      <td>96.4</td>\n",
       "      <td>96.4</td>\n",
       "      <td>96.4</td>\n",
       "      <td>41.2</td>\n",
       "      <td>41.2</td>\n",
       "      <td>41.2</td>\n",
       "      <td>ENV</td>\n",
       "      <td>-37.813408</td>\n",
       "      <td>144.979492</td>\n",
       "      <td>30.10</td>\n",
       "      <td>Fitzroy Gardens</td>\n",
       "      <td>508-20141215015000</td>\n",
       "      <td>NaN</td>\n",
       "    </tr>\n",
       "    <tr>\n",
       "      <th>6</th>\n",
       "      <td>12/15/2014 01:55:00 AM</td>\n",
       "      <td>0013a20040b516ed</td>\n",
       "      <td>1</td>\n",
       "      <td>505</td>\n",
       "      <td>23.2</td>\n",
       "      <td>23.2</td>\n",
       "      <td>23.2</td>\n",
       "      <td>93.5</td>\n",
       "      <td>93.5</td>\n",
       "      <td>93.5</td>\n",
       "      <td>47.0</td>\n",
       "      <td>47.0</td>\n",
       "      <td>47.0</td>\n",
       "      <td>ENV</td>\n",
       "      <td>-37.813073</td>\n",
       "      <td>144.980406</td>\n",
       "      <td>29.91</td>\n",
       "      <td>Fitzroy Gardens</td>\n",
       "      <td>505-20141215015500</td>\n",
       "      <td>NaN</td>\n",
       "    </tr>\n",
       "    <tr>\n",
       "      <th>7</th>\n",
       "      <td>12/15/2014 01:55:00 AM</td>\n",
       "      <td>0013a20040b516f6</td>\n",
       "      <td>1</td>\n",
       "      <td>507</td>\n",
       "      <td>21.6</td>\n",
       "      <td>21.6</td>\n",
       "      <td>21.6</td>\n",
       "      <td>97.2</td>\n",
       "      <td>97.2</td>\n",
       "      <td>97.2</td>\n",
       "      <td>44.5</td>\n",
       "      <td>44.5</td>\n",
       "      <td>44.5</td>\n",
       "      <td>ENV</td>\n",
       "      <td>-37.814922</td>\n",
       "      <td>144.982258</td>\n",
       "      <td>38.79</td>\n",
       "      <td>Fitzroy Gardens</td>\n",
       "      <td>507-20141215015500</td>\n",
       "      <td>NaN</td>\n",
       "    </tr>\n",
       "    <tr>\n",
       "      <th>8</th>\n",
       "      <td>12/15/2014 01:55:00 AM</td>\n",
       "      <td>0013a20040b5b318</td>\n",
       "      <td>1</td>\n",
       "      <td>502</td>\n",
       "      <td>21.6</td>\n",
       "      <td>21.6</td>\n",
       "      <td>21.6</td>\n",
       "      <td>97.4</td>\n",
       "      <td>97.4</td>\n",
       "      <td>97.4</td>\n",
       "      <td>45.3</td>\n",
       "      <td>45.3</td>\n",
       "      <td>45.3</td>\n",
       "      <td>ENV</td>\n",
       "      <td>-37.814610</td>\n",
       "      <td>144.979018</td>\n",
       "      <td>22.57</td>\n",
       "      <td>Fitzroy Gardens</td>\n",
       "      <td>502-20141215015500</td>\n",
       "      <td>NaN</td>\n",
       "    </tr>\n",
       "    <tr>\n",
       "      <th>9</th>\n",
       "      <td>12/15/2014 02:00:00 AM</td>\n",
       "      <td>0013a20040b315ec</td>\n",
       "      <td>1</td>\n",
       "      <td>501</td>\n",
       "      <td>23.5</td>\n",
       "      <td>23.5</td>\n",
       "      <td>23.5</td>\n",
       "      <td>97.4</td>\n",
       "      <td>97.4</td>\n",
       "      <td>97.4</td>\n",
       "      <td>43.7</td>\n",
       "      <td>43.7</td>\n",
       "      <td>43.7</td>\n",
       "      <td>ENV</td>\n",
       "      <td>-37.814808</td>\n",
       "      <td>144.980999</td>\n",
       "      <td>29.96</td>\n",
       "      <td>Fitzroy Gardens</td>\n",
       "      <td>501-20141215020000</td>\n",
       "      <td>NaN</td>\n",
       "    </tr>\n",
       "  </tbody>\n",
       "</table>\n",
       "</div>"
      ],
      "text/plain": [
       "                timestamp               mac  boardtype  boardid  temp_max  \\\n",
       "0  12/15/2014 01:40:00 AM  0013a20040b4b755          1      508      21.6   \n",
       "1  12/15/2014 01:40:00 AM  0013a20040b516ed          1      505      23.2   \n",
       "2  12/15/2014 01:45:00 AM  0013a20040b516f6          1      507      21.6   \n",
       "3  12/15/2014 01:45:00 AM  0013a20040b5b318          1      502      21.3   \n",
       "4  12/15/2014 01:45:00 AM  0013a20040b315ec          1      501      22.9   \n",
       "5  12/15/2014 01:50:00 AM  0013a20040b4b755          1      508      21.3   \n",
       "6  12/15/2014 01:55:00 AM  0013a20040b516ed          1      505      23.2   \n",
       "7  12/15/2014 01:55:00 AM  0013a20040b516f6          1      507      21.6   \n",
       "8  12/15/2014 01:55:00 AM  0013a20040b5b318          1      502      21.6   \n",
       "9  12/15/2014 02:00:00 AM  0013a20040b315ec          1      501      23.5   \n",
       "\n",
       "   temp_min  temp_avg  light_max  light_min  light_avg  humidity_min  \\\n",
       "0      21.6      21.6       96.4       96.4       96.4          41.2   \n",
       "1      23.2      23.2       93.5       93.5       93.5          48.3   \n",
       "2      21.6      21.6       97.2       97.2       97.2          44.8   \n",
       "3      21.3      21.3       97.4       97.4       97.4          45.3   \n",
       "4      22.9      22.9       97.4       97.4       97.4          43.1   \n",
       "5      21.3      21.3       96.4       96.4       96.4          41.2   \n",
       "6      23.2      23.2       93.5       93.5       93.5          47.0   \n",
       "7      21.6      21.6       97.2       97.2       97.2          44.5   \n",
       "8      21.6      21.6       97.4       97.4       97.4          45.3   \n",
       "9      23.5      23.5       97.4       97.4       97.4          43.7   \n",
       "\n",
       "   humidity_max  humidity_avg model   latitude   longitude  elevation  \\\n",
       "0          41.2          41.2   ENV -37.813408  144.979492      30.10   \n",
       "1          48.3          48.3   ENV -37.813073  144.980406      29.91   \n",
       "2          44.8          44.8   ENV -37.814922  144.982258      38.79   \n",
       "3          45.3          45.3   ENV -37.814610  144.979018      22.57   \n",
       "4          43.1          43.1   ENV -37.814808  144.980999      29.96   \n",
       "5          41.2          41.2   ENV -37.813408  144.979492      30.10   \n",
       "6          47.0          47.0   ENV -37.813073  144.980406      29.91   \n",
       "7          44.5          44.5   ENV -37.814922  144.982258      38.79   \n",
       "8          45.3          45.3   ENV -37.814610  144.979018      22.57   \n",
       "9          43.7          43.7   ENV -37.814808  144.980999      29.96   \n",
       "\n",
       "          location               rowid  Position  \n",
       "0  Fitzroy Gardens  508-20141215014000       NaN  \n",
       "1  Fitzroy Gardens  505-20141215014000       NaN  \n",
       "2  Fitzroy Gardens  507-20141215014500       NaN  \n",
       "3  Fitzroy Gardens  502-20141215014500       NaN  \n",
       "4  Fitzroy Gardens  501-20141215014500       NaN  \n",
       "5  Fitzroy Gardens  508-20141215015000       NaN  \n",
       "6  Fitzroy Gardens  505-20141215015500       NaN  \n",
       "7  Fitzroy Gardens  507-20141215015500       NaN  \n",
       "8  Fitzroy Gardens  502-20141215015500       NaN  \n",
       "9  Fitzroy Gardens  501-20141215020000       NaN  "
      ]
     },
     "execution_count": 6,
     "metadata": {},
     "output_type": "execute_result"
    }
   ],
   "source": [
    "#Import the dataset\n",
    "\n",
    "dataset = pd.read_csv(\"C:/Users/samka/OneDrive/Desktop/Sensor_readings__with_temperature__light__humidity_every_5_minutes_at_8_locations__trial__2014_to_2015_ (1).csv\")\n",
    "\n",
    "#Exploratory Data Analysis\n",
    "#As this is unsupervised learning so Label (Output Column) is unknown\n",
    "\n",
    "dataset.head(10) #Printing first 10 rows of the dataset\n"
   ]
  },
  {
   "cell_type": "code",
   "execution_count": 7,
   "metadata": {
    "_uuid": "d47849badb0035c1968d9b19384a266f6cfdc634",
    "colab": {
     "base_uri": "https://localhost:8080/"
    },
    "id": "A_vOlaO5Z3xZ",
    "outputId": "e2d89c39-b306-4ae4-c38e-2ce0419840e8"
   },
   "outputs": [
    {
     "data": {
      "text/plain": [
       "(56570, 20)"
      ]
     },
     "execution_count": 7,
     "metadata": {},
     "output_type": "execute_result"
    }
   ],
   "source": [
    "#total rows and colums in the dataset\n",
    "dataset.shape"
   ]
  },
  {
   "cell_type": "code",
   "execution_count": 8,
   "metadata": {
    "_uuid": "bcfc2fb58c8989f2f548dbf19d83cbf7bcc42313",
    "colab": {
     "base_uri": "https://localhost:8080/"
    },
    "id": "QW6oEVilZ3xa",
    "outputId": "3ffeb786-a11b-46ba-89da-eb3cc2f70932"
   },
   "outputs": [
    {
     "name": "stdout",
     "output_type": "stream",
     "text": [
      "<class 'pandas.core.frame.DataFrame'>\n",
      "RangeIndex: 56570 entries, 0 to 56569\n",
      "Data columns (total 20 columns):\n",
      " #   Column        Non-Null Count  Dtype  \n",
      "---  ------        --------------  -----  \n",
      " 0   timestamp     56570 non-null  object \n",
      " 1   mac           56570 non-null  object \n",
      " 2   boardtype     56570 non-null  int64  \n",
      " 3   boardid       56570 non-null  int64  \n",
      " 4   temp_max      56570 non-null  float64\n",
      " 5   temp_min      56570 non-null  float64\n",
      " 6   temp_avg      56570 non-null  float64\n",
      " 7   light_max     56570 non-null  float64\n",
      " 8   light_min     56570 non-null  float64\n",
      " 9   light_avg     56570 non-null  float64\n",
      " 10  humidity_min  56570 non-null  float64\n",
      " 11  humidity_max  56570 non-null  float64\n",
      " 12  humidity_avg  56570 non-null  float64\n",
      " 13  model         56570 non-null  object \n",
      " 14  latitude      56570 non-null  float64\n",
      " 15  longitude     56570 non-null  float64\n",
      " 16  elevation     34975 non-null  float64\n",
      " 17  location      56570 non-null  object \n",
      " 18  rowid         56570 non-null  object \n",
      " 19  Position      0 non-null      float64\n",
      "dtypes: float64(13), int64(2), object(5)\n",
      "memory usage: 8.6+ MB\n"
     ]
    }
   ],
   "source": [
    "dataset.info() # there are no missing values as all the columns "
   ]
  },
  {
   "cell_type": "code",
   "execution_count": 9,
   "metadata": {
    "_uuid": "ca96e1a193d3818013ccffa63b90914c1042cac6",
    "colab": {
     "base_uri": "https://localhost:8080/"
    },
    "id": "euGew7huZ3xb",
    "outputId": "2f32f565-96fb-4b38-c0da-25c26bb041e2"
   },
   "outputs": [
    {
     "data": {
      "text/plain": [
       "timestamp           0\n",
       "mac                 0\n",
       "boardtype           0\n",
       "boardid             0\n",
       "temp_max            0\n",
       "temp_min            0\n",
       "temp_avg            0\n",
       "light_max           0\n",
       "light_min           0\n",
       "light_avg           0\n",
       "humidity_min        0\n",
       "humidity_max        0\n",
       "humidity_avg        0\n",
       "model               0\n",
       "latitude            0\n",
       "longitude           0\n",
       "elevation       21595\n",
       "location            0\n",
       "rowid               0\n",
       "Position        56570\n",
       "dtype: int64"
      ]
     },
     "execution_count": 9,
     "metadata": {},
     "output_type": "execute_result"
    }
   ],
   "source": [
    "#Missing values computation\n",
    "dataset.isnull().sum()"
   ]
  },
  {
   "cell_type": "code",
   "execution_count": 10,
   "metadata": {
    "_uuid": "1c76e4a81b32169d627aad33366c6089c17299f3",
    "id": "m2O5OEHKZ3xc"
   },
   "outputs": [],
   "source": [
    "### Feature sleection for the model\n",
    "#Considering only 2 features and no Label available\n",
    "X= dataset.iloc[:, [7,10]].values\n"
   ]
  },
  {
   "cell_type": "code",
   "execution_count": 11,
   "metadata": {
    "_uuid": "5e4f9f5b66017fb178608632d9f9bc07cc825853",
    "id": "q0GqnmyTZ3xd"
   },
   "outputs": [],
   "source": [
    "#Building the Model\n",
    "#K-Means Algorithm to decide the optimum cluster number , KMeans++ using Elbow Mmethod\n",
    "#to figure out K for KMeans, I will use ELBOW Method on KMEANS++ Calculation\n",
    "from sklearn.cluster import KMeans\n",
    "wcss=[]\n",
    "\n",
    "#we always assume the max number of cluster would be 10\n",
    "#you can judge the number of clusters by doing averaging\n",
    "###Static code to get max no of clusters\n",
    "\n",
    "for i in range(1,11):\n",
    "    kmeans = KMeans(n_clusters= i, init='k-means++', random_state=0)\n",
    "    kmeans.fit(X)\n",
    "    wcss.append(kmeans.inertia_)\n",
    "\n",
    "    #inertia_ is the formula used to segregate the data points into clusters"
   ]
  },
  {
   "cell_type": "code",
   "execution_count": 12,
   "metadata": {
    "_uuid": "3a8226bd446bfce88342d98fea5d00d5c7b57a9e",
    "colab": {
     "base_uri": "https://localhost:8080/",
     "height": 295
    },
    "id": "7kjrTxAIZ3xe",
    "outputId": "a608c676-6a1c-4bb6-adfb-149d1310af08"
   },
   "outputs": [
    {
     "data": {
      "image/png": "[encoded data removed]",
      "text/plain": [
       "<Figure size 432x288 with 1 Axes>"
      ]
     },
     "metadata": {
      "needs_background": "light"
     },
     "output_type": "display_data"
    }
   ],
   "source": [
    "#Visualizing the ELBOW method to get the optimal value of K \n",
    "plt.plot(range(1,11), wcss)\n",
    "plt.title('The Elbow Method')\n",
    "plt.xlabel('no of clusters')\n",
    "plt.ylabel('wcss')\n",
    "plt.show()"
   ]
  },
  {
   "cell_type": "code",
   "execution_count": 13,
   "metadata": {
    "_uuid": "5b0ff8bf00fb9e9635e1c5302ffdbc2e9abd517e",
    "id": "tCWokxvXZ3xf"
   },
   "outputs": [],
   "source": [
    "#If you zoom out this curve then you will see that last elbow comes at k=2, so we will range the clusters from 2 to 5 since we are trying to find outliers\n",
    "#no matter what range we select ex- (1,21) also i will see the same behaviour but if we chose higher range it is little difficult to visualize the ELBOW\n",
    "#that is why we usually prefer range (1,11)\n",
    "##Finally we got that k=5\n",
    "\n",
    "#Model Build\n",
    "kmeansmodel = KMeans(n_clusters= 5, init='k-means++', random_state=0)\n",
    "y_kmeans= kmeansmodel.fit_predict(X)\n",
    "\n",
    "#For unsupervised learning we use \"fit_predict()\" wherein for supervised learning we use \"fit_tranform()\"\n",
    "#y_kmeans is the final model . Now how and where we will deploy this model in production is depends on what tool we are using.\n",
    "#This use case is very common and it is used in BFS industry(credit card) and retail for customer segmenattion."
   ]
  },
  {
   "cell_type": "code",
   "execution_count": 14,
   "metadata": {
    "_uuid": "5f68302f4aba23e471848f1dd1701bbc84c72d34",
    "colab": {
     "base_uri": "https://localhost:8080/",
     "height": 295
    },
    "id": "WtdSa0YwZ3xg",
    "outputId": "54337925-e86b-49e4-db9c-2d57686f2325"
   },
   "outputs": [
    {
     "data": {
      "image/png": "[encoded data removed]",
      "text/plain": [
       "<Figure size 432x288 with 1 Axes>"
      ]
     },
     "metadata": {
      "needs_background": "light"
     },
     "output_type": "display_data"
    }
   ],
   "source": [
    "#Visualizing all the clusters \n",
    "\n",
    "plt.scatter(X[y_kmeans == 0, 0], X[y_kmeans == 0, 1], s = 10, c = 'red', label = 'Cluster 1')\n",
    "plt.scatter(X[y_kmeans == 1, 0], X[y_kmeans == 1, 1], s = 10, c = 'blue', label = 'Cluster 2')\n",
    "plt.scatter(X[y_kmeans == 2, 0], X[y_kmeans == 2, 1], s = 100, c = 'green', label = 'Cluster 3')\n",
    "plt.scatter(X[y_kmeans == 3, 0], X[y_kmeans == 3, 1], s = 100, c = 'cyan', label = 'Cluster 4')\n",
    "plt.scatter(X[y_kmeans == 4, 0], X[y_kmeans == 4, 1], s = 100, c = 'magenta', label = 'Cluster 5')\n",
    "plt.scatter(kmeans.cluster_centers_[:, 0], kmeans.cluster_centers_[:, 1], s = 300, c = 'yellow', label = 'Centroids')\n",
    "plt.title('Clusters of Sensors')\n",
    "plt.xlabel('Avg Humidity')\n",
    "plt.ylabel('Avg Temperature')\n",
    "plt.legend()\n",
    "plt.show()\n"
   ]
  },
  {
   "cell_type": "code",
   "execution_count": null,
   "metadata": {
    "_uuid": "5888ca6ca9808216098ed9cb2310a2084408e4c5",
    "collapsed": true,
    "id": "u0C7-j9qZ3xi"
   },
   "outputs": [],
   "source": [
    "###Model Interpretation \n"
   ]
  }
 ],
 "metadata": {
  "colab": {
   "provenance": []
  },
  "kernelspec": {
   "display_name": "Python 3",
   "language": "python",
   "name": "python3"
  },
  "language_info": {
   "codemirror_mode": {
    "name": "ipython",
    "version": 3
   },
   "file_extension": ".py",
   "mimetype": "text/x-python",
   "name": "python",
   "nbconvert_exporter": "python",
   "pygments_lexer": "ipython3",
   "version": "3.7.6"
  }
 },
 "nbformat": 4,
 "nbformat_minor": 1
}
